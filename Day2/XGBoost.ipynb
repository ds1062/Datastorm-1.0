# Classification template


import numpy as np # linear algebra
import pandas as pd # data processing, CSV file I/O (e.g. pd.read_csv)

# Input data files are available in the "../input/" directory.
# For example, running this (by clicking run or pressing Shift+Enter) will list all files under the input directory

import os
for dirname, _, filenames in os.walk('/kaggle/input'):
    for filename in filenames:
        print(os.path.join(dirname, filename))

db=pd.read_csv('credit_card_default_train.csv')
gender={"M":0 ,"F":1} 
status ={"Single":0 , "Other":1} 
study= {"Graduate":1 , "High School":2 , "Other":3} 
age= {"Less than 30":1 , "31-45":2, "46-65":3 , "More than 65":4}
db['AGE']=db['AGE'].map(age)
db['Gender']=db['Gender'].map(gender)
db['EDUCATION_STATUS']=db['EDUCATION_STATUS'].map(study)
db['MARITAL_STATUS']=db['MARITAL_STATUS'].map(status)
X=pd.get_dummies(db[['AGE','Balance_Limit_V1','Gender','EDUCATION_STATUS','MARITAL_STATUS','PAY_JULY','PAY_AUG','PAY_SEP','PAY_OCT','PAY_NOV','PAY_DEC']])
y=pd.get_dummies(db['NEXT_MONTH_DEFAULT'],drop_first=True)
X['score']=db['DUE_AMT_JULY']+db['DUE_AMT_AUG']+db['DUE_AMT_SEP']+db['DUE_AMT_OCT']+db['DUE_AMT_NOV']+db['DUE_AMT_DEC']-(db['PAID_AMT_JULY']+db['PAID_AMT_AUG']+db['PAID_AMT_SEP']+db['PAID_AMT_OCT']+db['PAID_AMT_NOV']+db['PAID_AMT_DEC'])
#X['feasibility']=db['PAID_AMT_NOV']+db['PAID_AMT_DEC']


db=pd.read_csv('credit_card_default_test.csv')
gender={"M":0 ,"F":1} 
status ={"Single":0 , "Other":1} 
study= {"Graduate":1 , "High School":2 , "Other":3} 
age= {"Less than 30":1 , "31-45":2, "46-65":3 , "More than 65":4}
db['AGE']=db['AGE'].map(age)
db['Gender']=db['Gender'].map(gender)
db['EDUCATION_STATUS']=db['EDUCATION_STATUS'].map(study)
db['MARITAL_STATUS']=db['MARITAL_STATUS'].map(status)
X_test=pd.get_dummies(db[['AGE','Balance_Limit_V1','Gender','EDUCATION_STATUS','MARITAL_STATUS','PAY_JULY','PAY_AUG','PAY_SEP','PAY_OCT','PAY_NOV','PAY_DEC']])
X_test['score']=db['DUE_AMT_JULY']+db['DUE_AMT_AUG']+db['DUE_AMT_SEP']+db['DUE_AMT_OCT']+db['DUE_AMT_NOV']+db['DUE_AMT_DEC']-(db['PAID_AMT_JULY']+db['PAID_AMT_AUG']+db['PAID_AMT_SEP']+db['PAID_AMT_OCT']+db['PAID_AMT_NOV']+db['PAID_AMT_DEC'])
#X['feasibility']=db['PAID_AMT_NOV']+db['PAID_AMT_DEC']





# Encoding categorical data
from sklearn.preprocessing import  OneHotEncoder


onehotencoder_0 = OneHotEncoder(categorical_features=[0])
X = onehotencoder_0.fit_transform(X).toarray()
X_test = onehotencoder_0.fit_transform(X_test).toarray()
X= X[:,1:]
X_test= X_test[:,1:]

onehotencoder_2 = OneHotEncoder(categorical_features=[4])
X = onehotencoder_2.fit_transform(X).toarray()
X_test = onehotencoder_2.fit_transform(X_test).toarray()
X= X[:,1:]
X_test= X_test[:,1:]



# Splitting the dataset into the Training set and Test set
from sklearn.model_selection import train_test_split
X_train, X_test_, y_train, y_test_ = train_test_split(X, y, test_size = 0.2, random_state = 0)

# Fitting XGBoost to the Training set
from xgboost import XGBClassifier
classifier = XGBClassifier()
classifier.fit(X, y)
#




from sklearn.model_selection import cross_val_score
accuracies1 = cross_val_score(estimator=classifier,X=X_train, y= y_train, cv=10)
accuracies2 = cross_val_score(estimator=classifier,X=X_test_, y= y_test_, cv=10)
